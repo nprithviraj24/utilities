{
 "cells": [
  {
   "cell_type": "markdown",
   "metadata": {},
   "source": [
    "### Math operation on Tensors\n",
    "Thanks to [this](https://probability.dmi.unibas.ch/belius/teaching/intro_to_dl/4/1.html)."
   ]
  },
  {
   "cell_type": "code",
   "execution_count": 17,
   "metadata": {},
   "outputs": [
    {
     "data": {
      "text/plain": [
       "tensor([[-1.2733, -2.1828, -0.7823, -2.0865, -0.4526],\n",
       "        [-0.2728,  0.8242, -0.2127,  1.4759,  0.1774],\n",
       "        [-0.1577,  0.6758,  0.0538,  0.1331, -1.1212],\n",
       "        [ 1.2139, -2.3406, -0.2546, -1.1089,  0.2498],\n",
       "        [ 0.1836, -1.3481, -0.4450, -0.2822,  0.0686]])"
      ]
     },
     "execution_count": 17,
     "metadata": {},
     "output_type": "execute_result"
    }
   ],
   "source": [
    "import torch\n",
    "import numpy as np\n",
    "\n",
    "# Basic operation\n",
    "torch.normal(torch.zeros(5,5), torch.ones(5,5)) # Tensor.normal(means=0, std=1) <- Create tensor with\n",
    "                                                                                     # random normal values.\n",
    "                                                                                     # Means and std devs given\n",
    "                                                                                     # as tensor"
   ]
  },
  {
   "cell_type": "markdown",
   "metadata": {},
   "source": [
    "#### Tensor creation"
   ]
  },
  {
   "cell_type": "code",
   "execution_count": 4,
   "metadata": {},
   "outputs": [],
   "source": [
    "t = torch.Tensor(3,2)             # torch.Tensor(size) <- Create tensor of certain size\n",
    "t = torch.zeros(3,2)              # torch.zeros(size)  <- Create tensor of certain size filled with zeros\n",
    "t = torch.ones(3,2)               # torch.zeros(size)  <- Create tensor of certain size filled with ones\n",
    "t = torch.Tensor( [[3,2],[1,0]] ) # torch.Tensor(sequence) <- Create tensor with certain entries\n",
    "t = torch.eye(3)                  # torch.eye(n) <- Create identity matrix \n",
    "t = torch.from_numpy( np.array( [1,2,3] )) # torch.from_numpy(ndarray) <- Create PyTorch tensor from numpy array\n",
    "\n",
    "t = torch.bernoulli(torch.ones(5,5)*0.3)   # torch.bernoulli(t)  <- Create tensor of same size as t with\n",
    "                                                                  # Bernoulli RV in entries with p in corresponding    "
   ]
  },
  {
   "cell_type": "markdown",
   "metadata": {},
   "source": [
    "\n",
    "#### Tensor filling"
   ]
  },
  {
   "cell_type": "code",
   "execution_count": 9,
   "metadata": {},
   "outputs": [],
   "source": [
    "t = torch.Tensor(3,2)             # torch.Tensor(size) <- Create tensor of certain size\n",
    "t = torch.zeros(3,2)              # torch.zeros(size)  <- Create tensor of certain size filled with zeros\n",
    "t = torch.ones(3,2)               # torch.zeros(size)  <- Create tensor of certain size filled with ones\n",
    "t = torch.Tensor( [[3,2],[1,0]] ) # torch.Tensor(sequence) <- Create tensor with certain entries\n",
    "t = torch.eye(3)                  # torch.eye(n) <- Create identity matrix \n",
    "t = torch.from_numpy( np.array( [1,2,3] )) # torch.from_numpy(ndarray) <- Create PyTorch tensor from numpy array\n",
    "t = torch.normal(torch.zeros(5,5), torch.ones(5,5)) # Tensor.normal(means=0, std=1) <- Create tensor with\n",
    "                                                                                     # random normal values.\n",
    "                                                                                     # Means and std devs given\n",
    "                                                                                     # as tensor\n",
    "t = torch.bernoulli(torch.ones(5,5)*0.3)   # torch.bernoulli(t)  <- Create tensor of same size as t with\n",
    "                                                                  # Bernoulli RV in entries with p in corresponding    \n"
   ]
  },
  {
   "cell_type": "markdown",
   "metadata": {},
   "source": [
    "#### Pointwise Math"
   ]
  },
  {
   "cell_type": "code",
   "execution_count": 10,
   "metadata": {},
   "outputs": [
    {
     "data": {
      "text/plain": [
       "tensor([[0.2837, 0.2744, 0.3010, 0.3493, 0.3887],\n",
       "        [0.3797, 0.2840, 0.3745, 0.2691, 0.3297],\n",
       "        [0.3235, 0.3296, 0.2708, 0.3173, 0.3383],\n",
       "        [0.2899, 0.2705, 0.6740, 0.2717, 0.2701],\n",
       "        [0.2906, 0.2692, 0.3217, 0.3557, 0.2987]])"
      ]
     },
     "execution_count": 10,
     "metadata": {},
     "output_type": "execute_result"
    }
   ],
   "source": [
    "t = torch.Tensor(5, 5)\n",
    "t.normal_() ### in place operation\n",
    "\n",
    "torch.abs(t)        # torch.abs(input, out=None) <- Absolute value entrywise\n",
    "t.abs_()            # Tensor.abs_()              <- Absolute value in place \n",
    "torch.add(t, 2.0)   # torch.add(input, value, out=None)  <- Add scalar to each entry\n",
    "t.add_(2.0)         # Tensor.add_(value)                 <- Add in place\n",
    "torch.cos(t)        # t = torch.cos(input, out=None) <- Compute cos of entries\n",
    "t.cos_()            # Tensor.cos_() <- Cos in place\n",
    "torch.sigmoid(t)    # t = torch.sigmoid(input, out=None)   <- Compute sigmoid in place\n",
    "t.sigmoid_()        # Tensor.sigmoid_() <- Simgoid in place\n",
    "# (+ many others)"
   ]
  },
  {
   "cell_type": "markdown",
   "metadata": {},
   "source": [
    "#### Math Reduction"
   ]
  },
  {
   "cell_type": "code",
   "execution_count": 12,
   "metadata": {},
   "outputs": [
    {
     "data": {
      "text/plain": [
       "tensor(0.7179)"
      ]
     },
     "execution_count": 12,
     "metadata": {},
     "output_type": "execute_result"
    }
   ],
   "source": [
    "t = torch.Tensor( 3,4 )\n",
    "t.normal_()\n",
    "\n",
    "t.sum()     # Tensor.sum( dim=-1 ) <- Compute sum\n",
    "t.sum(0)    # Tensor.sum( 0 )         <- Compute sum over dimension 0\n",
    "t.sum(1)    # Tensor.sum( 1 )         <- Compute sum over dimension 1\n",
    "t.norm()    # Tensor.norm( p=2 ) <- Compute p-norm\n",
    "t.mean()    # Tensor.mean() <- Compute mean\n",
    "t.std()     # Tensor.std() <- Compute empirical standard deviation"
   ]
  },
  {
   "cell_type": "markdown",
   "metadata": {},
   "source": [
    "#### Linear Algebra"
   ]
  },
  {
   "cell_type": "code",
   "execution_count": 14,
   "metadata": {},
   "outputs": [
    {
     "data": {
      "text/plain": [
       "tensor([ 0.0914, -0.3382, -1.3096])"
      ]
     },
     "execution_count": 14,
     "metadata": {},
     "output_type": "execute_result"
    }
   ],
   "source": [
    "t = torch.Tensor( 3,3 )\n",
    "t.normal_()\n",
    "\n",
    "torch.eig(t)                 # torch.eig(a, eigenvectors=False, out=None) <- Compute eigenvalues\n",
    "torch.eig(t, True)           # Also compute eigenvectors\n",
    "torch.inverse(t)             # torch.inverse(input, out=None) <- Compute inverse of matrix\n",
    "torch.mm( t, t )             # torch.mm(mat1, mat2, out=None) <- Multiply matrices\n",
    "torch.mv( t, torch.ones(3) ) # torch.mv(mat, vec, out=None)   <- Multiply matrix by vector"
   ]
  },
  {
   "cell_type": "markdown",
   "metadata": {},
   "source": [
    "#### Operations on dimensions, slicing"
   ]
  },
  {
   "cell_type": "code",
   "execution_count": 15,
   "metadata": {},
   "outputs": [
    {
     "data": {
      "text/plain": [
       "tensor([[-1.2908, -0.7452],\n",
       "        [-0.8651, -0.1754]])"
      ]
     },
     "execution_count": 15,
     "metadata": {},
     "output_type": "execute_result"
    }
   ],
   "source": [
    "t = torch.Tensor( 2, 4 )\n",
    "t.normal_()\n",
    "\n",
    "t.t()                 # Tensor.transpose() <- The transpose of t\n",
    "t2 = t.view(2,2,2)    # Tensor.view(dim1, dim2, ..., dimn)  <- Convert a tensor of one shape to another\n",
    "                      # (sizes must be compatible)\n",
    "t2[0,0,0]=10.0        # Tensor.view creates a view on the same underlying data, so changing the view changes the\n",
    "                      # original tensor.\n",
    "# Now t[0,0] equals 10.0\n",
    "\n",
    "\n",
    "t.view( 2, 4, 1 ).expand( 2, 4, 3 )   # Tensor.expand( dim1, dim2, dim3, ... ) \n",
    "                                      # ^ Create a view where copties of the tensor are stacked togehter,\n",
    "                                      # in the dimensions the size of the tensor is 1.\n",
    "\n",
    "t.narrow( 1, 1, 2 ) # Tensor.narrow( dim, start_idx_, length)\n",
    "                    # ^ Create a view which contains a slice of the tensor, where\n",
    "                    # only indices start_idx, start_idx+1,..., start_idx+length-1\n",
    "                    # are kept from the dimension dim"
   ]
  },
  {
   "cell_type": "code",
   "execution_count": null,
   "metadata": {},
   "outputs": [],
   "source": []
  }
 ],
 "metadata": {
  "kernelspec": {
   "display_name": "Python 3",
   "language": "python",
   "name": "python3"
  },
  "language_info": {
   "codemirror_mode": {
    "name": "ipython",
    "version": 3
   },
   "file_extension": ".py",
   "mimetype": "text/x-python",
   "name": "python",
   "nbconvert_exporter": "python",
   "pygments_lexer": "ipython3",
   "version": "3.7.4"
  }
 },
 "nbformat": 4,
 "nbformat_minor": 2
}
